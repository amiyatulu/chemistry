{
 "cells": [
  {
   "cell_type": "markdown",
   "metadata": {},
   "source": [
    "$$\\require{mhchem}$$"
   ]
  },
  {
   "cell_type": "markdown",
   "metadata": {},
   "source": [
    "**First Law**: The amount of chemical reaction which occurs at any electrode during electrolysis by a current is proportional to the quantity of electricity passed through the electrolyte (solution or melt).."
   ]
  },
  {
   "cell_type": "markdown",
   "metadata": {},
   "source": [
    "Consider the electrolysis of molten salt such as sodium chloride.  \n",
    "** *Oxidation (Anode)* **: $$\\ce{2Cl- (l) -> Cl2(g) + 2e-}$$\n",
    "** *Reduction (Cathode)* **: $$\\ce{2Na+ (l) + 2e- -> 2Na(s)}$$\n",
    "** *Overall Reaction* **: $$\\ce{2Na+ (l) + 2Cl- (l) -> 2Na(s) + Cl2 (g) } $$\n"
   ]
  },
  {
   "cell_type": "markdown",
   "metadata": {},
   "source": [
    "Suppose you supply 10A of current for 15 min the amount of $\\ce{Cl2}$ produced in moles.\n",
    "\n",
    "Given:  \n",
    "2 mole e<sup>-</sup> : 1 mole $\\ce{Cl2}$  \n",
    "10 A   \n",
    "15 min  \n",
    "\n",
    "Find:\n",
    "mole of $\\ce{Cl2}$\n",
    "\n",
    "\n",
    "<table style=\"text-align:center\"><tr><td>min</td><td>→</td><td>s</td><td> →</td><td> C</td><td> →</td><td> mole e<sup>-</sup> </td><td> →</td><td> mol Cl<sub>2</sub></td></tr><tr><td></td><td>$\\frac{\\text{60 s}}{\\text{1 min}}$</td><td></td><td>$\\frac{\\text{10 C}}{\\text{1 s}}$</td><td></td><td>$\\frac{\\text{1 mol } e^-}{\\text{96,485 C}}$</td><td></td><td>$\\frac{\\text{1 mole }Cl_2}  {\\text{2 mole }e^-}$</td><td></td></tr></table>\n",
    "<br>\n",
    "<br>\n",
    "\n",
    "$$ \\text{15 min }  \\times \\frac{\\text{60 s}}{\\text{1 min}} \\times \\frac{\\text{10 C}}{\\text{1 s}} \\times \\frac{\\text{1 mol } e^-}{\\text{96,485 C}} \\times \\frac{\\text{1 mole }Cl_2}  {\\text{2 mole }e^-} = \\text{0.046639374 mole} $$"
   ]
  },
  {
   "cell_type": "markdown",
   "metadata": {},
   "source": [
    "Suppose you now supply 20A of current for 10 min the amount of $\\ce{Cl2}$ produced in moles.\n",
    "\n",
    "Given:  \n",
    "2 mole e<sup>-</sup> : 1 mole $\\ce{Cl2}$  \n",
    "20 A   \n",
    "15 min  \n",
    "\n",
    "Find:\n",
    "mole of $\\ce{Cl2}$\n",
    "\n",
    "\n",
    "<table style=\"text-align:center\"><tr><td>min</td><td>→</td><td>s</td><td> →</td><td> C</td><td> →</td><td> mole e<sup>-</sup> </td><td> →</td><td> mol Cl<sub>2</sub></td></tr><tr><td></td><td>$\\frac{\\text{60 s}}{\\text{1 min}}$</td><td></td><td>$\\frac{\\text{20 C}}{\\text{1 s}}$</td><td></td><td>$\\frac{\\text{1 mol } e^-}{\\text{96,485 C}}$</td><td></td><td>$\\frac{\\text{1 mole }Cl_2}  {\\text{2 mole }e^-}$</td><td></td></tr></table>\n",
    "<br>\n",
    "<br>\n",
    "\n",
    "$$ \\text{15 min }  \\times \\frac{\\text{60 s}}{\\text{1 min}} \\times \\frac{\\text{20 C}}{\\text{1 s}} \\times \\frac{\\text{1 mol } e^-}{\\text{96,485 C}} \\times \\frac{\\text{1 mole }Cl_2}  {\\text{2 mole }e^-} = \\text{0.0932787 mole} = \\text{0.046639374 mole} \\times \\text{2} $$"
   ]
  },
  {
   "cell_type": "markdown",
   "metadata": {},
   "source": [
    "So to 20A of current for 15 min produces 2 times more $\\ce{Cl2}$ than 10A of current for 15 min"
   ]
  },
  {
   "cell_type": "markdown",
   "metadata": {},
   "source": [
    "** *Second Law* **: The amounts of different substances liberated by the same quantity of electricity passing through the electrolytic solution are proportional to their chemical equivalent weights"
   ]
  },
  {
   "cell_type": "markdown",
   "metadata": {},
   "source": [
    "**equivalent weight**  \n",
    "The weight of a substance that will combine with or replace one mole of hydrogen or one-half mole of oxygen. The equivalent weight is equal to the atomic weight divided by the valence.\n",
    "\n",
    "The mass of a compound which will combine with 8g of oxygen or 1g of hydrogen is said to be the equivalent weight of the compound.\n",
    "\n",
    "Lets take an example,\n",
    "\n",
    "$$\\ce{2Ca + O2 -> 2CaO}$$\n",
    "\n",
    "From basic stoichiometry, you know that 2 moles of calcium react with 1 mole of oxygen to produce 2 moles of calcium oxide. We can say the same statement in terms of masses as 80g of calcium reacts with 32g of oxygen to produce 112g of calcium oxide.\n",
    "\n",
    "Since 80g of Calcium reacts with 32g of oxygen, 20g of calcium should react with 8g of oxygen.\n",
    "\n",
    "Now by the definition of equivalent weight mentioned earlier, the equivalent weight of calcium is 20g.\n",
    "\n",
    "E = M/V\n",
    "\n",
    "The formula you were talking about gives the equivalent weight of an element (can be extended to be used with ions).\n",
    "\n",
    "Equivalent weight = (Atomic mass)/(Valency)\n",
    "\n"
   ]
  },
  {
   "cell_type": "markdown",
   "metadata": {},
   "source": [
    "Consider the electrolysis where Al is taken as anode and Li is taken as cathode  \n",
    "\n",
    "**Oxidation (Anode)**: $\\ce{Al -> Al^3+ + 3e-}$  \n",
    "**Reduction (Cathode)**: $\\ce{Li+ + e- -> Li}$"
   ]
  },
  {
   "cell_type": "markdown",
   "metadata": {},
   "source": [
    "Suppose you supply 10A of current for 15 min the amount of number of  grams equivalent of Li produced   \n",
    "Given:  \n",
    "1 mole e<sup>-</sup> : 1 mole Li  \n",
    "10 A   \n",
    "15 min   \n",
    "7 g Li : 1 number of g equivalent  \n",
    "\n",
    "Find:\n",
    "Li produced in grams  \n",
    "\n",
    "\n"
   ]
  },
  {
   "cell_type": "markdown",
   "metadata": {},
   "source": [
    "<table style=\"text-align:center\"><tr><td>min</td><td>→</td><td>s</td><td> →</td><td> C</td><td> →</td><td> mole e<sup>-</sup> </td><td> →</td><td> mol Li</td><td>→</td><td>g Li</td> <td>→</td>\n",
    "<td>number of g equivalent Li</td>\n",
    "</tr>\n",
    "<tr>\n",
    "<td></td>\n",
    "<td>$\\frac{\\text{60 s}}{\\text{1 min}}$</td>\n",
    "<td></td>\n",
    "<td>$\\frac{\\text{10 C}}{\\text{1 s}}$</td>\n",
    "<td></td>\n",
    "<td>$\\frac{\\text{1 mol } e^-}{\\text{96,485 C}}$</td>\n",
    "<td></td>\n",
    "<td>$\\frac{\\text{1 mole }Li}  {\\text{1 mole }e^-}$</td>\n",
    "<td></td>\n",
    "<td>$\\frac{\\text{7 g Li}}{\\text{1 mole Li}}$</td>\n",
    "<td></td>\n",
    "<td>$\\frac{\\text{1 number of g equivalent Li}}{\\text{7 g Li}}$</td>\n",
    "</tr>\n",
    "</table>\n",
    "<br>\n",
    "<br>\n",
    "\n"
   ]
  },
  {
   "cell_type": "markdown",
   "metadata": {},
   "source": [
    "$$ \\text{15 min }  \\times \\frac{\\text{60 s}}{\\text{1 min}} \\times \\frac{\\text{10 C}}{\\text{1 s}} \\times \\frac{\\text{1 mol } e^-}{\\text{96,485 C}} \\times \\frac{\\text{1 mole Li}}  {\\text{1 mole }e^-} \\times \\frac{\\text{7 g Li}}{\\text{1 mole Li}} \\times \\frac{\\text{1 number of g equivalent Li}}{\\text{7 g Li}} = \\text{0.0933 number of g equivalent Li} $$"
   ]
  },
  {
   "cell_type": "markdown",
   "metadata": {},
   "source": [
    "Suppose you supply 10A of current for 15 min the amount of Al<sup>3+</sup> produced in grams equivalent\n",
    "\n",
    "Given:  \n",
    "3 mole e<sup>-</sup> : 1 mole Al  \n",
    "10 A   \n",
    "15 min   \n",
    "27 g Al : 3 number of g equivalent Al  \n",
    "\n",
    "Find:\n",
    "Al produced in grams "
   ]
  },
  {
   "cell_type": "markdown",
   "metadata": {},
   "source": [
    "<table style=\"text-align:center\"><tr><td>min</td><td>→</td><td>s</td><td> →</td><td> C</td><td> →</td><td> mole e<sup>-</sup> </td><td> →</td><td> mol Li</td><td>→</td><td>g Li</td><td>→</td><td>number of g equivalent Al</td>\n",
    "</tr>\n",
    "<tr>\n",
    "<td></td>\n",
    "<td>$\\frac{\\text{60 s}}{\\text{1 min}}$</td>\n",
    "<td></td>\n",
    "<td>$\\frac{\\text{10 C}}{\\text{1 s}}$</td>\n",
    "<td></td>\n",
    "<td>$\\frac{\\text{1 mol } e^-}{\\text{96,485 C}}$</td>\n",
    "<td></td>\n",
    "<td>$\\frac{\\text{1 mole }Al}  {\\text{3 mole }e^-}$</td>\n",
    "<td></td>\n",
    "<td>$\\frac{\\text{27 g Al}}{\\text{1 mole Al}}$</td>\n",
    "<td></td>\n",
    "<td>$\\frac{\\text{3 number of g equivalent Al}}{\\text{27 g Al}}$</td>\n",
    "</tr>\n",
    "</table>\n",
    "<br>\n",
    "<br>\n"
   ]
  },
  {
   "cell_type": "markdown",
   "metadata": {},
   "source": [
    "$$ \\text{15 min }  \\times \\frac{\\text{60 s}}{\\text{1 min}} \\times \\frac{\\text{10 C}}{\\text{1 s}} \\times \\frac{\\text{1 mol } e^-}{\\text{96,485 C}} \\times \\frac{\\text{1 mole Al}}  {\\text{3 mole }e^-} \\times \\frac{\\text{27 g Al}}{\\text{1 mole Al}} \\times \\frac{\\text{3 number of g equivalent Al}}{\\text{27 g Al}} = \\text{0.0933 number of  g equivalent Al} $$"
   ]
  }
 ],
 "metadata": {
  "kernelspec": {
   "display_name": "Python 3",
   "language": "python",
   "name": "python3"
  },
  "language_info": {
   "codemirror_mode": {
    "name": "ipython",
    "version": 3
   },
   "file_extension": ".py",
   "mimetype": "text/x-python",
   "name": "python",
   "nbconvert_exporter": "python",
   "pygments_lexer": "ipython3",
   "version": "3.5.3"
  }
 },
 "nbformat": 4,
 "nbformat_minor": 2
}
